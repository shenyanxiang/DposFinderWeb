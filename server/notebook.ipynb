{
 "cells": [
  {
   "cell_type": "code",
   "execution_count": null,
   "metadata": {},
   "outputs": [],
   "source": [
    "#创建jobs.sql文件，用于创建jobs表\n",
    "from sqlalchemy import create_engine, MetaData, Table, Column, Integer, String, DateTime\n",
    "from sqlalchemy.orm import sessionmaker\n",
    "\n",
    "# 创建数据库引擎，'sqlite:///jobs.db' 指定了数据库的路径为当前目录下的 jobs.db 文件\n",
    "engine = create_engine('sqlite:///jobs.db')\n",
    "\n",
    "# 创建元数据实例\n",
    "metadata = MetaData()\n",
    "\n",
    "# 定义表\n",
    "jobs = Table('jobs', metadata,\n",
    "    Column('id', Integer, primary_key=True, autoincrement=True),\n",
    "    Column('job_id', String(50), unique=True),\n",
    "    Column('task', String(10)),\n",
    "    Column('ip', String(50)),\n",
    "    Column('num_sequence', Integer),\n",
    "    Column('status', String(30)),\n",
    "    Column('email', String(30)),\n",
    "    Column('submit_time', DateTime),\n",
    ")\n",
    "\n",
    "# 创建表\n",
    "metadata.create_all(engine)"
   ]
  },
  {
   "cell_type": "code",
   "execution_count": null,
   "metadata": {},
   "outputs": [],
   "source": [
    "from sqlalchemy import create_engine, MetaData, Table\n",
    "from sqlalchemy.orm import sessionmaker\n",
    "\n",
    "# 创建数据库引擎，'sqlite:///jobs.db' 指定了数据库的路径为当前目录下的 jobs.db 文件\n",
    "engine = create_engine('sqlite:///jobs.db')\n",
    "\n",
    "# 创建元数据实例\n",
    "metadata = MetaData()\n",
    "\n",
    "# 获取 jobs 表对象\n",
    "jobs = Table('jobs', metadata)\n",
    "\n",
    "# 创建数据库会话\n",
    "Session = sessionmaker(bind=engine)\n",
    "session = Session()\n",
    "\n",
    "# 执行删除操作\n",
    "session.query(jobs).delete()\n",
    "\n",
    "# 提交事务\n",
    "session.commit()\n",
    "\n",
    "# 关闭会话\n",
    "session.close()"
   ]
  },
  {
   "cell_type": "code",
   "execution_count": 11,
   "metadata": {},
   "outputs": [],
   "source": [
    "import os\n",
    "\n",
    "# 遍历./dpos_db/valid_dpos目录下的所有子目录，将每个子目录中的sequence.fasta文件写入到published_dpos.fasta文件中\n",
    "def write_published_dpos():\n",
    "    with open('published_dpos.fasta', 'w') as f:\n",
    "        for root, dirs, files in os.walk('./dpos_db/valid_dpos'):\n",
    "            for file in files:\n",
    "                if file == 'sequence.fasta':\n",
    "                    with open(os.path.join(root, file), 'r') as sequence:\n",
    "                        f.write(sequence.read())\n",
    "                        f.write('\\n')\n",
    "\n",
    "write_published_dpos()\n",
    "\n",
    "\n"
   ]
  },
  {
   "cell_type": "code",
   "execution_count": 7,
   "metadata": {},
   "outputs": [],
   "source": [
    "from Bio import Entrez, SeqIO\n",
    "\n",
    "Entrez.email = 'shenyanxiang@sjtu.edu.cn'\n",
    "\n",
    "# 读取包含蛋白质 accession 号的文件\n",
    "with open('dpos_database.txt', 'r') as file:\n",
    "    protein_accessions = file.read().splitlines()\n",
    "\n",
    "# 根据蛋白质 accession 号获取对应的基因组 accession 号\n",
    "genome_accessions = []\n",
    "for protein_accession in protein_accessions:\n",
    "    handle = Entrez.efetch(db='protein', id=protein_accession, rettype='gb', retmode='text')\n",
    "    record = SeqIO.read(handle, 'genbank')\n",
    "    genome_accession = record.annotations['db_source'].split(' ')[-1]\n",
    "    genome_accessions.append(genome_accession)\n",
    "\n",
    "for genome_accession in genome_accessions:\n",
    "#写入文件\n",
    "    with open('dpos_genome_accessions.txt', 'a') as f:\n",
    "        f.write(genome_accession)\n",
    "        f.write('\\n')"
   ]
  },
  {
   "cell_type": "code",
   "execution_count": 3,
   "metadata": {},
   "outputs": [],
   "source": [
    "import os\n",
    "\n",
    "with open('valid_dpos.txt', 'r') as file:\n",
    "    protein_accessions = file.read().splitlines()\n",
    "\n",
    "for protein_accession in protein_accessions:\n",
    "    #检查./dpos_db/valid_dpos目录下是否存在以蛋白质accession号命名的子目录\n",
    "    if not os.path.exists(f'./dpos_db/valid_dpos/{protein_accession}'):\n",
    "        print(f'./dpos_db/valid_dpos/{protein_accession} does not exist')\n"
   ]
  },
  {
   "cell_type": "code",
   "execution_count": 5,
   "metadata": {},
   "outputs": [
    {
     "name": "stdout",
     "output_type": "stream",
     "text": [
      "0\n"
     ]
    }
   ],
   "source": [
    "import os \n",
    "\n",
    "file_num = 0\n",
    "for file in os.listdir('./dpos_db/pred_dpos'):\n",
    "    file_num += 1\n",
    "\n",
    "print(file_num)"
   ]
  }
 ],
 "metadata": {
  "kernelspec": {
   "display_name": "DposFinder",
   "language": "python",
   "name": "python3"
  },
  "language_info": {
   "codemirror_mode": {
    "name": "ipython",
    "version": 3
   },
   "file_extension": ".py",
   "mimetype": "text/x-python",
   "name": "python",
   "nbconvert_exporter": "python",
   "pygments_lexer": "ipython3",
   "version": "3.7.16"
  }
 },
 "nbformat": 4,
 "nbformat_minor": 2
}
