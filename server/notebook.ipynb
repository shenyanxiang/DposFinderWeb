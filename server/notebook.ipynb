{
 "cells": [
  {
   "cell_type": "code",
   "execution_count": null,
   "metadata": {},
   "outputs": [],
   "source": [
    "#创建jobs.sql文件，用于创建jobs表\n",
    "from sqlalchemy import create_engine, MetaData, Table, Column, Integer, String, DateTime\n",
    "from sqlalchemy.orm import sessionmaker\n",
    "\n",
    "# 创建数据库引擎，'sqlite:///jobs.db' 指定了数据库的路径为当前目录下的 jobs.db 文件\n",
    "engine = create_engine('sqlite:///jobs.db')\n",
    "\n",
    "# 创建元数据实例\n",
    "metadata = MetaData()\n",
    "\n",
    "# 定义表\n",
    "jobs = Table('jobs', metadata,\n",
    "    Column('id', Integer, primary_key=True, autoincrement=True),\n",
    "    Column('job_id', String(50), unique=True),\n",
    "    Column('task', String(10)),\n",
    "    Column('ip', String(50)),\n",
    "    Column('num_sequence', Integer),\n",
    "    Column('status', String(30)),\n",
    "    Column('email', String(30)),\n",
    "    Column('submit_time', DateTime),\n",
    ")\n",
    "\n",
    "# 创建表\n",
    "metadata.create_all(engine)"
   ]
  }
 ],
 "metadata": {
  "language_info": {
   "name": "python"
  }
 },
 "nbformat": 4,
 "nbformat_minor": 2
}
